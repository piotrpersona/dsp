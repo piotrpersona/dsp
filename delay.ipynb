{
 "cells": [
  {
   "cell_type": "code",
   "execution_count": 28,
   "id": "bd2b6092",
   "metadata": {},
   "outputs": [],
   "source": [
    "import numpy as np\n",
    "import scipy.io.wavfile as wavfile"
   ]
  },
  {
   "cell_type": "code",
   "execution_count": 29,
   "id": "24e1e3a4",
   "metadata": {},
   "outputs": [],
   "source": [
    "ECHO_DURATION_SEC = 0.1\n",
    "DELAY_AMPLITUDE = 0.5"
   ]
  },
  {
   "cell_type": "code",
   "execution_count": 30,
   "id": "134fcd01",
   "metadata": {},
   "outputs": [
    {
     "name": "stderr",
     "output_type": "stream",
     "text": [
      "/var/folders/c0/m79gd7p16tv11hh4pbbvlw640000gn/T/ipykernel_22572/3331086649.py:1: WavFileWarning: Chunk (non-data) not understood, skipping it.\n",
      "  sample_rate, signal = wavfile.read('./files/64.wav')\n"
     ]
    }
   ],
   "source": [
    "sample_rate, signal = wavfile.read('./files/64.wav')\n",
    "sig = signal.astype(float) / 2**15\n",
    "mono_sig = sig.sum(axis=1) / 2"
   ]
  },
  {
   "cell_type": "code",
   "execution_count": 32,
   "id": "cb071d29",
   "metadata": {},
   "outputs": [],
   "source": [
    "delayed = np.concatenate((zero_padding_sig, mono_sig))\n",
    "sig = np.concatenate((mono_sig, zero_padding_sig))\n",
    "\n",
    "summed = 0.7* sig + .9 * delayed"
   ]
  },
  {
   "cell_type": "code",
   "execution_count": 33,
   "id": "6bdd4bcc",
   "metadata": {},
   "outputs": [],
   "source": [
    "wavfile.write(\"./files/64-delay.wav\", sample_rate, summed)"
   ]
  },
  {
   "cell_type": "code",
   "execution_count": null,
   "id": "c517c289",
   "metadata": {},
   "outputs": [],
   "source": []
  }
 ],
 "metadata": {
  "kernelspec": {
   "display_name": "Python 3 (ipykernel)",
   "language": "python",
   "name": "python3"
  },
  "language_info": {
   "codemirror_mode": {
    "name": "ipython",
    "version": 3
   },
   "file_extension": ".py",
   "mimetype": "text/x-python",
   "name": "python",
   "nbconvert_exporter": "python",
   "pygments_lexer": "ipython3",
   "version": "3.11.4"
  }
 },
 "nbformat": 4,
 "nbformat_minor": 5
}
